{
 "cells": [
  {
   "cell_type": "code",
   "execution_count": null,
   "id": "e63735df-de75-474f-8ce6-a807d749b962",
   "metadata": {},
   "outputs": [],
   "source": [
    "## This Jupyter notebook can be used to train a YOLOv8 model on the SODA Dataset.\n",
    "## ------------------------------------------------------------------------------\n",
    "\n",
    "# Initial Notebook Setup\n",
    "%cd /notebooks # can be ommited if not required in the development workspace. \n",
    "import os\n",
    "HOME = os.getcwd()\n",
    "print(HOME)\n",
    "\n",
    "# Pip install method\n",
    "!pip install ultralytics==8.0.20 # ultralytics provides the YOLOv8 libraries. \n",
    "!pip install roboflow --quiet # SODA dataset was annotated using Roboflow. Roboflow library is used to import the SODA Dataset into the development workspace. \n",
    "# The SODA Dataset can alternatively be imported into the workspace manually. \n",
    "from IPython import display\n",
    "import ultralytics\n",
    "ultralytics.checks()\n",
    "from ultralytics import YOLO\n",
    "from IPython.display import display, Image\n",
    "from roboflow import Roboflow\n",
    "\n",
    "# Directory in which the SODA Dataset is imported by Roboflow in the workspace. \n",
    "!mkdir {HOME}/datasets\n",
    "%cd {HOME}/datasets\n",
    "\n",
    "## Import Dataset from Roboflow (Example) - Code below can be retrieved from Roboflow\n",
    "## SODA Dataset (Training and Validation) can be downloaded from: https://universe.roboflow.com/danielpisani/soda-train-val-set\n",
    "# rf = Roboflow(api_key=\"\")\n",
    "# project = rf.workspace(\"\").project(\"\")\n",
    "# dataset = project.version().download(\"yolov8\")\n"
   ]
  },
  {
   "cell_type": "code",
   "execution_count": null,
   "id": "5acf5a74-a05c-4094-b5d9-d81dbcc1f66a",
   "metadata": {},
   "outputs": [],
   "source": [
    "# YOLOv8 is maintanted by Ultralytics. Please refer to https://docs.ultralytics.com/ for documentation\n",
    "%cd {HOME}\n",
    "!yolo task=detect mode=train model=yolov8s.pt data={dataset.location}/data.yaml epochs=1000 imgsz=640 plots=True cache=False\n",
    "## Defaults\n",
    "# patience=50\n",
    "# "
   ]
  }
 ],
 "metadata": {
  "kernelspec": {
   "display_name": "Python 3 (ipykernel)",
   "language": "python",
   "name": "python3"
  },
  "language_info": {
   "codemirror_mode": {
    "name": "ipython",
    "version": 3
   },
   "file_extension": ".py",
   "mimetype": "text/x-python",
   "name": "python",
   "nbconvert_exporter": "python",
   "pygments_lexer": "ipython3",
   "version": "3.9.16"
  }
 },
 "nbformat": 4,
 "nbformat_minor": 5
}
