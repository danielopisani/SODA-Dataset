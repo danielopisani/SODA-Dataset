{
 "cells": [
  {
   "cell_type": "markdown",
   "id": "b16da6b2-3554-449e-8458-77d43d071aff",
   "metadata": {},
   "source": [
    "## Inference YOLOv5"
   ]
  },
  {
   "cell_type": "markdown",
   "id": "9309dd12-e263-470e-9bb0-55b91fee6333",
   "metadata": {},
   "source": [
    "### Project Setup"
   ]
  },
  {
   "cell_type": "code",
   "execution_count": 1,
   "id": "82bf66ea-85ce-4d28-883f-2edbc0651824",
   "metadata": {},
   "outputs": [
    {
     "name": "stdout",
     "output_type": "stream",
     "text": [
      "Setup complete. Using torch 1.12.1+cu116 _CudaDeviceProperties(name='NVIDIA RTX A6000', major=8, minor=6, total_memory=48676MB, multi_processor_count=84)\n"
     ]
    }
   ],
   "source": [
    "#Initialization\n",
    "project_name = 'inference_yolov5_bottles_wild'\n",
    "#epochs_no = 500\n",
    "\n",
    "# Clone YOLOv5 repository\n",
    "!git clone https://github.com/ultralytics/yolov5  # clone repo\n",
    "%cd yolov5\n",
    "!git reset --hard 064365d8683fd002e9ad789c1e91fa3d021b44f0\n",
    "\n",
    "# Install dependencies as necessary\n",
    "!pip install -qr requirements.txt  # install dependencies (ignore errors)\n",
    "!pip install roboflow\n",
    "\n",
    "# Imports\n",
    "import torch\n",
    "import sys\n",
    "import shutil\n",
    "import datetime\n",
    "from datetime import datetime\n",
    "from IPython.display import Image, clear_output  # to display images\n",
    "from utils.downloads import attempt_download  # to download models/datasets\n",
    "from roboflow import Roboflow\n",
    "\n",
    "#%cd /content/yolov5\n",
    "\n",
    "clear_output()\n",
    "print('Setup complete. Using torch %s %s' % (torch.__version__, torch.cuda.get_device_properties(0) if torch.cuda.is_available() else 'CPU'))"
   ]
  },
  {
   "cell_type": "markdown",
   "id": "4735ec2f-dd15-4df0-bae4-5e4d637b0d82",
   "metadata": {},
   "source": [
    "### Download Test Data"
   ]
  },
  {
   "cell_type": "code",
   "execution_count": 5,
   "id": "8aa3d3b8-81c6-4629-a5f2-46a85bdb358b",
   "metadata": {},
   "outputs": [
    {
     "name": "stdout",
     "output_type": "stream",
     "text": [
      "/notebooks/Inference_YOLOv5/Datasets_Bottles\n",
      "loading Roboflow workspace...\n",
      "loading Roboflow project...\n",
      "Downloading Dataset Version Zip in Bottles_Wild-1 to yolov5pytorch: 18% [24567808 / 131789669] bytes"
     ]
    },
    {
     "name": "stderr",
     "output_type": "stream",
     "text": [
      "IOPub message rate exceeded.\n",
      "The Jupyter server will temporarily stop sending output\n",
      "to the client in order to avoid crashing it.\n",
      "To change this limit, set the config variable\n",
      "`--ServerApp.iopub_msg_rate_limit`.\n",
      "\n",
      "Current values:\n",
      "ServerApp.iopub_msg_rate_limit=1000.0 (msgs/sec)\n",
      "ServerApp.rate_limit_window=3.0 (secs)\n",
      "\n"
     ]
    },
    {
     "name": "stdout",
     "output_type": "stream",
     "text": [
      "Downloading Dataset Version Zip in Bottles_Wild-1 to yolov5pytorch: 58% [76685312 / 131789669] bytes"
     ]
    },
    {
     "name": "stderr",
     "output_type": "stream",
     "text": [
      "IOPub message rate exceeded.\n",
      "The Jupyter server will temporarily stop sending output\n",
      "to the client in order to avoid crashing it.\n",
      "To change this limit, set the config variable\n",
      "`--ServerApp.iopub_msg_rate_limit`.\n",
      "\n",
      "Current values:\n",
      "ServerApp.iopub_msg_rate_limit=1000.0 (msgs/sec)\n",
      "ServerApp.rate_limit_window=3.0 (secs)\n",
      "\n"
     ]
    },
    {
     "name": "stdout",
     "output_type": "stream",
     "text": [
      "Downloading Dataset Version Zip in Bottles_Wild-1 to yolov5pytorch: 98% [129597440 / 131789669] bytes"
     ]
    },
    {
     "name": "stderr",
     "output_type": "stream",
     "text": [
      "IOPub message rate exceeded.\n",
      "The Jupyter server will temporarily stop sending output\n",
      "to the client in order to avoid crashing it.\n",
      "To change this limit, set the config variable\n",
      "`--ServerApp.iopub_msg_rate_limit`.\n",
      "\n",
      "Current values:\n",
      "ServerApp.iopub_msg_rate_limit=1000.0 (msgs/sec)\n",
      "ServerApp.rate_limit_window=3.0 (secs)\n",
      "\n"
     ]
    }
   ],
   "source": [
    "\"\"\"\n",
    "# Sand\n",
    "%cd /notebooks/Inference_YOLOv5/Datasets_Bottles\n",
    "rf = Roboflow(api_key=\"231KR0ukCDKcYQc9VNlx\")\n",
    "project = rf.workspace(\"dissertation-umzgz\").project(\"bottles_sand\")\n",
    "dataset = project.version(1).download(\"yolov5\")\n",
    "\n",
    "# Lawn\n",
    "%cd /notebooks/Inference_YOLOv5/Datasets_Bottles\n",
    "rf = Roboflow(api_key=\"231KR0ukCDKcYQc9VNlx\")\n",
    "project = rf.workspace(\"dissertation-umzgz\").project(\"bottles_lawn\")\n",
    "dataset = project.version(1).download(\"yolov5\")\n",
    "\n",
    "\n",
    "# Bush\n",
    "%cd /notebooks/Inference_YOLOv5/Datasets_Bottles\n",
    "rf = Roboflow(api_key=\"231KR0ukCDKcYQc9VNlx\")\n",
    "project = rf.workspace(\"dissertation-umzgz\").project(\"bottles_bush\")\n",
    "dataset = project.version(1).download(\"yolov5\")\n",
    "\n",
    "\n",
    "# Land\n",
    "%cd /notebooks/Inference_YOLOv5/Datasets_Bottles\n",
    "rf = Roboflow(api_key=\"231KR0ukCDKcYQc9VNlx\")\n",
    "project = rf.workspace(\"dissertation-umzgz\").project(\"bottles_land\")\n",
    "dataset = project.version(2).download(\"yolov5\")\n",
    "\n",
    "\n",
    "# Steps\n",
    "%cd /notebooks/Inference_YOLOv5/Datasets_Bottles\n",
    "rf = Roboflow(api_key=\"231KR0ukCDKcYQc9VNlx\")\n",
    "project = rf.workspace(\"dissertation-umzgz\").project(\"bottles_steps\")\n",
    "dataset = project.version(1).download(\"yolov5\")\n",
    "\n",
    "\n",
    "# Mixture\n",
    "%cd /notebooks/Inference_YOLOv5/Datasets_Bottles\n",
    "rf = Roboflow(api_key=\"231KR0ukCDKcYQc9VNlx\")\n",
    "project = rf.workspace(\"dissertation-umzgz\").project(\"bottles_mixture\")\n",
    "dataset = project.version(1).download(\"yolov5\")\n",
    "\n",
    "\n",
    "# Ground\n",
    "%cd /notebooks/Inference_YOLOv5/Datasets_Bottles\n",
    "rf = Roboflow(api_key=\"231KR0ukCDKcYQc9VNlx\")\n",
    "project = rf.workspace(\"dissertation-umzgz\").project(\"bottles_ground\")\n",
    "dataset = project.version(1).download(\"yolov5\")\n",
    "\n",
    "\n",
    "# Playground\n",
    "%cd /notebooks/Inference_YOLOv5/Datasets_Bottles\n",
    "rf = Roboflow(api_key=\"231KR0ukCDKcYQc9VNlx\")\n",
    "project = rf.workspace(\"dissertation-umzgz\").project(\"bottles_playground\")\n",
    "dataset = project.version(1).download(\"yolov5\")\n",
    "\n",
    "# All Images\n",
    "%cd /notebooks/Inference_YOLOv5/Datasets_Bottles\n",
    "rf = Roboflow(api_key=\"231KR0ukCDKcYQc9VNlx\")\n",
    "project = rf.workspace(\"dissertation-umzgz\").project(\"bottles_wild\")\n",
    "dataset = project.version(1).download(\"yolov5\")\n",
    "\"\"\""
   ]
  },
  {
   "cell_type": "markdown",
   "id": "6681974a-d964-40d6-90a6-df371c6d1723",
   "metadata": {},
   "source": [
    "# Inference (Clear_Plastic_Bottle)"
   ]
  },
  {
   "cell_type": "code",
   "execution_count": 8,
   "id": "798141a1-370a-4b0b-bfd6-d58d3dff889f",
   "metadata": {},
   "outputs": [],
   "source": [
    "#weights_path = './yolov5'\n",
    "weights_path = './yolov5/runs/train/yolov5_ALL_TrainVal_5by53/weights'\n",
    "\n",
    "sand = './Inference_YOLOv5/Datasets_Bottles/Bottles_Sand-1'\n",
    "lawn = './Inference_YOLOv5/Datasets_Bottles/Bottles_Lawn-1'\n",
    "bush = './Inference_YOLOv5/Datasets_Bottles/Bottles_Bush-1'\n",
    "land = './Inference_YOLOv5/Datasets_Bottles/Bottles_Land-2'\n",
    "steps = './Inference_YOLOv5/Datasets_Bottles/Bottles_Steps-1'\n",
    "mixture = './Inference_YOLOv5/Datasets_Bottles/Bottles_Mixture-1'\n",
    "ground = './Inference_YOLOv5/Datasets_Bottles/Bottles_Ground-1'\n",
    "playground = './Inference_YOLOv5/Datasets_Bottles/Bottles_Playground-1'\n",
    "bottles_all = './Inference_YOLOv5/Datasets_Bottles/Bottles_Wild-1'"
   ]
  },
  {
   "cell_type": "code",
   "execution_count": 9,
   "id": "852c5890-e9c3-4597-8a85-853f304bcdc8",
   "metadata": {},
   "outputs": [
    {
     "name": "stdout",
     "output_type": "stream",
     "text": [
      "-----------------------------------\n",
      "Playground\n",
      "-----------------------------------\n",
      "/notebooks\n",
      "\u001b[34m\u001b[1mval: \u001b[0mdata=./Inference_YOLOv5/Datasets_Bottles/Bottles_Wild-1/data.yaml, weights=['./yolov5/runs/train/yolov5_ALL_TrainVal_5by53/weights/best.pt'], batch_size=32, imgsz=640, conf_thres=0.001, iou_thres=0.45, max_det=300, task=test, device=, workers=8, single_cls=False, augment=False, verbose=False, save_txt=False, save_hybrid=False, save_conf=False, save_json=False, project=yolov5/runs/val, name=exp, exist_ok=False, half=False, dnn=False\n",
      "YOLOv5 🚀 v7.0-72-g064365d Python-3.9.16 torch-1.12.1+cu116 CUDA:0 (NVIDIA RTX A6000, 48677MiB)\n",
      "\n",
      "Fusing layers... \n",
      "Model summary: 157 layers, 7026307 parameters, 0 gradients, 15.8 GFLOPs\n",
      "\u001b[34m\u001b[1mtest: \u001b[0mScanning /notebooks/Inference_YOLOv5/Datasets_Bottles/Bottles_Wild-1/test/\u001b[0m\n",
      "\u001b[34m\u001b[1mtest: \u001b[0mNew cache created: /notebooks/Inference_YOLOv5/Datasets_Bottles/Bottles_Wild-1/test/labels.cache\n",
      "                 Class     Images  Instances          P          R      mAP50   \n",
      "                   all       5078       7503      0.494      0.765      0.668      0.374\n",
      "  clear_plastic_bottle       5078       7503      0.494      0.765      0.668      0.374\n",
      "Speed: 0.1ms pre-process, 1.7ms inference, 0.8ms NMS per image at shape (32, 3, 640, 640)\n",
      "Results saved to \u001b[1myolov5/runs/val/exp205\u001b[0m\n"
     ]
    }
   ],
   "source": [
    "print(\"-----------------------------------\\nSand\\n-----------------------------------\")\n",
    "%cd /notebooks/\n",
    "#!python ./yolov5/val.py --img 640 --weights '{weights_path}/best.pt' --data '{data_05_path}/data.yaml' --task test --iou-thres 0.45\n",
    "!python ./yolov5/val.py --img 640 --weights '{weights_path}/best.pt' --data '{sand}/data.yaml' --task test --iou-thres 0.45\n",
    "\n",
    "print(\"-----------------------------------\\nLawn\\n-----------------------------------\")\n",
    "%cd /notebooks/\n",
    "#!python ./yolov5/val.py --img 640 --weights '{weights_path}/best.pt' --data '{data_05_path}/data.yaml' --task test --iou-thres 0.45\n",
    "!python ./yolov5/val.py --img 640 --weights '{weights_path}/best.pt' --data '{lawn}/data.yaml' --task test --iou-thres 0.45\n",
    "\n",
    "print(\"-----------------------------------\\nBush\\n-----------------------------------\")\n",
    "%cd /notebooks/\n",
    "#!python ./yolov5/val.py --img 640 --weights '{weights_path}/best.pt' --data '{data_05_path}/data.yaml' --task test --iou-thres 0.45\n",
    "!python ./yolov5/val.py --img 640 --weights '{weights_path}/best.pt' --data '{bush}/data.yaml' --task test --iou-thres 0.45\n",
    "\n",
    "print(\"-----------------------------------\\nLand\\n-----------------------------------\")\n",
    "%cd /notebooks/\n",
    "#!python ./yolov5/val.py --img 640 --weights '{weights_path}/best.pt' --data '{data_05_path}/data.yaml' --task test --iou-thres 0.45\n",
    "!python ./yolov5/val.py --img 640 --weights '{weights_path}/best.pt' --data '{land}/data.yaml' --task test --iou-thres 0.45\n",
    "\n",
    "print(\"-----------------------------------\\nSteps\\n-----------------------------------\")\n",
    "%cd /notebooks/\n",
    "#!python ./yolov5/val.py --img 640 --weights '{weights_path}/best.pt' --data '{data_05_path}/data.yaml' --task test --iou-thres 0.45\n",
    "!python ./yolov5/val.py --img 640 --weights '{weights_path}/best.pt' --data '{steps}/data.yaml' --task test --iou-thres 0.45\n",
    "\n",
    "print(\"-----------------------------------\\nMixture\\n-----------------------------------\")\n",
    "%cd /notebooks/\n",
    "#!python ./yolov5/val.py --img 640 --weights '{weights_path}/best.pt' --data '{data_05_path}/data.yaml' --task test --iou-thres 0.45\n",
    "!python ./yolov5/val.py --img 640 --weights '{weights_path}/best.pt' --data '{mixture}/data.yaml' --task test --iou-thres 0.45\n",
    "\n",
    "print(\"-----------------------------------\\nGround\\n-----------------------------------\")\n",
    "%cd /notebooks/\n",
    "#!python ./yolov5/val.py --img 640 --weights '{weights_path}/best.pt' --data '{data_05_path}/data.yaml' --task test --iou-thres 0.45\n",
    "!python ./yolov5/val.py --img 640 --weights '{weights_path}/best.pt' --data '{ground}/data.yaml' --task test --iou-thres 0.45\n",
    "\n",
    "print(\"-----------------------------------\\nPlayground\\n-----------------------------------\")\n",
    "%cd /notebooks/\n",
    "#!python ./yolov5/val.py --img 640 --weights '{weights_path}/best.pt' --data '{data_05_path}/data.yaml' --task test --iou-thres 0.45\n",
    "!python ./yolov5/val.py --img 640 --weights '{weights_path}/best.pt' --data '{playground}/data.yaml' --task test --iou-thres 0.45\n",
    "\n",
    "print(\"-----------------------------------\\nBottles All\\n-----------------------------------\")\n",
    "%cd /notebooks/\n",
    "#!python ./yolov5/val.py --img 640 --weights '{weights_path}/best.pt' --data '{data_05_path}/data.yaml' --task test --iou-thres 0.45\n",
    "!python ./yolov5/val.py --img 640 --weights '{weights_path}/best.pt' --data '{bottles_all}/data.yaml' --task test --iou-thres 0.45"
   ]
  },
  {
   "cell_type": "markdown",
   "id": "311a4a6f-802d-45b5-9036-361d00df59a4",
   "metadata": {},
   "source": [
    "# Inference (One Class)"
   ]
  },
  {
   "cell_type": "code",
   "execution_count": 18,
   "id": "4071751d-78d7-4e49-a929-f2a9ad6804e5",
   "metadata": {},
   "outputs": [],
   "source": [
    "weights_path = './yolov5/runs/train/yolov5_one_class_final/weights'\n",
    "\n",
    "sand = './Inference_YOLOv5/Datasets_Bottles_OneClass/Bottles_Sand-1'\n",
    "lawn = './Inference_YOLOv5/Datasets_Bottles_OneClass/Bottles_Lawn-1'\n",
    "bush = './Inference_YOLOv5/Datasets_Bottles_OneClass/Bottles_Bush-1'\n",
    "land = './Inference_YOLOv5/Datasets_Bottles_OneClass/Bottles_Land-2'\n",
    "steps = './Inference_YOLOv5/Datasets_Bottles_OneClass/Bottles_Steps-1'\n",
    "mixture = './Inference_YOLOv5/Datasets_Bottles_OneClass/Bottles_Mixture-1'\n",
    "ground = './Inference_YOLOv5/Datasets_Bottles_OneClass/Bottles_Ground-1'\n",
    "playground = './Inference_YOLOv5/Datasets_Bottles_OneClass/Bottles_Playground-1'\n",
    "bottles_all = './Inference_YOLOv5/Datasets_Bottles_OneClass/Bottles_Wild-1'"
   ]
  },
  {
   "cell_type": "code",
   "execution_count": 19,
   "id": "7322600c-8434-43be-9354-b72c58f097b1",
   "metadata": {},
   "outputs": [
    {
     "name": "stdout",
     "output_type": "stream",
     "text": [
      "-----------------------------------\n",
      "Bottles All\n",
      "-----------------------------------\n",
      "/notebooks\n",
      "\u001b[34m\u001b[1mval: \u001b[0mdata=./Inference_YOLOv5/Datasets_Bottles_OneClass/Bottles_Wild-1/data.yaml, weights=['./yolov5/runs/train/yolov5_one_class_final/weights/best.pt'], batch_size=32, imgsz=640, conf_thres=0.001, iou_thres=0.45, max_det=300, task=test, device=, workers=8, single_cls=False, augment=False, verbose=False, save_txt=False, save_hybrid=False, save_conf=False, save_json=False, project=yolov5/runs/val, name=exp, exist_ok=False, half=False, dnn=False\n",
      "YOLOv5 🚀 v7.0-72-g064365d Python-3.9.16 torch-1.12.1+cu116 CUDA:0 (NVIDIA RTX A6000, 48677MiB)\n",
      "\n",
      "Fusing layers... \n",
      "Model summary: 157 layers, 7012822 parameters, 0 gradients, 15.8 GFLOPs\n",
      "\u001b[34m\u001b[1mtest: \u001b[0mScanning /notebooks/Inference_YOLOv5/Datasets_Bottles_OneClass/Bottles_Wil\u001b[0m\n",
      "\u001b[34m\u001b[1mtest: \u001b[0mNew cache created: /notebooks/Inference_YOLOv5/Datasets_Bottles_OneClass/Bottles_Wild-1/test/labels.cache\n",
      "                 Class     Images  Instances          P          R      mAP50   \n",
      "                   all       5078       7503       0.84      0.774      0.854      0.488\n",
      "Speed: 0.1ms pre-process, 1.7ms inference, 0.8ms NMS per image at shape (32, 3, 640, 640)\n",
      "Results saved to \u001b[1myolov5/runs/val/exp206\u001b[0m\n"
     ]
    }
   ],
   "source": [
    "print(\"-----------------------------------\\nSand\\n-----------------------------------\")\n",
    "%cd /notebooks/\n",
    "#!python ./yolov5/val.py --img 640 --weights '{weights_path}/best.pt' --data '{data_05_path}/data.yaml' --task test --iou-thres 0.45\n",
    "!python ./yolov5/val.py --img 342 --weights '{weights_path}/best.pt' --data '{sand}/data.yaml' --task test --iou-thres 0.2\n",
    "\n",
    "print(\"-----------------------------------\\nLawn\\n-----------------------------------\")\n",
    "%cd /notebooks/\n",
    "#!python ./yolov5/val.py --img 640 --weights '{weights_path}/best.pt' --data '{data_05_path}/data.yaml' --task test --iou-thres 0.45\n",
    "!python ./yolov5/val.py --img 342 --weights '{weights_path}/best.pt' --data '{lawn}/data.yaml' --task test --iou-thres 0.2\n",
    "\n",
    "print(\"-----------------------------------\\nBush\\n-----------------------------------\")\n",
    "%cd /notebooks/\n",
    "#!python ./yolov5/val.py --img 640 --weights '{weights_path}/best.pt' --data '{data_05_path}/data.yaml' --task test --iou-thres 0.45\n",
    "!python ./yolov5/val.py --img 342 --weights '{weights_path}/best.pt' --data '{bush}/data.yaml' --task test --iou-thres 0.2\n",
    "\n",
    "print(\"-----------------------------------\\nLand\\n-----------------------------------\")\n",
    "%cd /notebooks/\n",
    "#!python ./yolov5/val.py --img 640 --weights '{weights_path}/best.pt' --data '{data_05_path}/data.yaml' --task test --iou-thres 0.45\n",
    "!python ./yolov5/val.py --img 342 --weights '{weights_path}/best.pt' --data '{land}/data.yaml' --task test --iou-thres 0.2\n",
    "\n",
    "print(\"-----------------------------------\\nSteps\\n-----------------------------------\")\n",
    "%cd /notebooks/\n",
    "#!python ./yolov5/val.py --img 640 --weights '{weights_path}/best.pt' --data '{data_05_path}/data.yaml' --task test --iou-thres 0.45\n",
    "!python ./yolov5/val.py --img 342 --weights '{weights_path}/best.pt' --data '{steps}/data.yaml' --task test --iou-thres 0.2\n",
    "\n",
    "print(\"-----------------------------------\\nMixture\\n-----------------------------------\")\n",
    "%cd /notebooks/\n",
    "#!python ./yolov5/val.py --img 640 --weights '{weights_path}/best.pt' --data '{data_05_path}/data.yaml' --task test --iou-thres 0.45\n",
    "!python ./yolov5/val.py --img 342 --weights '{weights_path}/best.pt' --data '{mixture}/data.yaml' --task test --iou-thres 0.2\n",
    "\n",
    "print(\"-----------------------------------\\nGround\\n-----------------------------------\")\n",
    "%cd /notebooks/\n",
    "#!python ./yolov5/val.py --img 640 --weights '{weights_path}/best.pt' --data '{data_05_path}/data.yaml' --task test --iou-thres 0.45\n",
    "!python ./yolov5/val.py --img 342 --weights '{weights_path}/best.pt' --data '{ground}/data.yaml' --task test --iou-thres 0.2\n",
    "\n",
    "print(\"-----------------------------------\\nPlayground\\n-----------------------------------\")\n",
    "%cd /notebooks/\n",
    "#!python ./yolov5/val.py --img 640 --weights '{weights_path}/best.pt' --data '{data_05_path}/data.yaml' --task test --iou-thres 0.45\n",
    "!python ./yolov5/val.py --img 342 --weights '{weights_path}/best.pt' --data '{playground}/data.yaml' --task test --iou-thres 0.2\n",
    "\n",
    "print(\"-----------------------------------\\nBottles All\\n-----------------------------------\")\n",
    "%cd /notebooks/\n",
    "#!python ./yolov5/val.py --img 640 --weights '{weights_path}/best.pt' --data '{data_05_path}/data.yaml' --task test --iou-thres 0.45\n",
    "!python ./yolov5/val.py --img 640 --weights '{weights_path}/best.pt' --data '{bottles_all}/data.yaml' --task test --iou-thres 0.45"
   ]
  },
  {
   "cell_type": "code",
   "execution_count": null,
   "id": "4c33ebf1-c458-4ff5-b7d8-91f894b90e65",
   "metadata": {},
   "outputs": [],
   "source": []
  }
 ],
 "metadata": {
  "kernelspec": {
   "display_name": "Python 3 (ipykernel)",
   "language": "python",
   "name": "python3"
  },
  "language_info": {
   "codemirror_mode": {
    "name": "ipython",
    "version": 3
   },
   "file_extension": ".py",
   "mimetype": "text/x-python",
   "name": "python",
   "nbconvert_exporter": "python",
   "pygments_lexer": "ipython3",
   "version": "3.9.16"
  }
 },
 "nbformat": 4,
 "nbformat_minor": 5
}
