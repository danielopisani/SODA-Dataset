{
 "cells": [
  {
   "cell_type": "markdown",
   "id": "b16da6b2-3554-449e-8458-77d43d071aff",
   "metadata": {},
   "source": [
    "## Inference YOLOv5"
   ]
  },
  {
   "cell_type": "markdown",
   "id": "9309dd12-e263-470e-9bb0-55b91fee6333",
   "metadata": {},
   "source": [
    "### Project Setup"
   ]
  },
  {
   "cell_type": "code",
   "execution_count": 1,
   "id": "82bf66ea-85ce-4d28-883f-2edbc0651824",
   "metadata": {},
   "outputs": [
    {
     "name": "stdout",
     "output_type": "stream",
     "text": [
      "Setup complete. Using torch 1.12.1+cu116 _CudaDeviceProperties(name='NVIDIA RTX A6000', major=8, minor=6, total_memory=48676MB, multi_processor_count=84)\n"
     ]
    }
   ],
   "source": [
    "#Initialization\n",
    "project_name = 'inference_yolov5_oneclass'\n",
    "#epochs_no = 500\n",
    "\n",
    "# Clone YOLOv5 repository\n",
    "!git clone https://github.com/ultralytics/yolov5  # clone repo\n",
    "%cd yolov5\n",
    "!git reset --hard 064365d8683fd002e9ad789c1e91fa3d021b44f0\n",
    "\n",
    "# Install dependencies as necessary\n",
    "!pip install -qr requirements.txt  # install dependencies (ignore errors)\n",
    "!pip install roboflow\n",
    "\n",
    "# Imports\n",
    "import torch\n",
    "import sys\n",
    "import shutil\n",
    "import datetime\n",
    "from datetime import datetime\n",
    "from IPython.display import Image, clear_output  # to display images\n",
    "from utils.downloads import attempt_download  # to download models/datasets\n",
    "from roboflow import Roboflow\n",
    "\n",
    "#%cd /content/yolov5\n",
    "\n",
    "clear_output()\n",
    "print('Setup complete. Using torch %s %s' % (torch.__version__, torch.cuda.get_device_properties(0) if torch.cuda.is_available() else 'CPU'))"
   ]
  },
  {
   "cell_type": "code",
   "execution_count": 6,
   "id": "a45dc040-41e1-41e1-8655-32200f7b57d5",
   "metadata": {},
   "outputs": [
    {
     "data": {
      "text/plain": [
       "'/notebooks'"
      ]
     },
     "execution_count": 6,
     "metadata": {},
     "output_type": "execute_result"
    }
   ],
   "source": [
    "pwd"
   ]
  },
  {
   "cell_type": "markdown",
   "id": "4735ec2f-dd15-4df0-bae4-5e4d637b0d82",
   "metadata": {},
   "source": [
    "### Download Test Data"
   ]
  },
  {
   "cell_type": "code",
   "execution_count": null,
   "id": "8aa3d3b8-81c6-4629-a5f2-46a85bdb358b",
   "metadata": {},
   "outputs": [],
   "source": [
    "\"\"\"\n",
    "%cd /notebooks/Inference_YOLOv5/Datasets\n",
    "\n",
    "#SODA 05m\n",
    "rf = Roboflow(api_key=\"2vNzUkqiG7v3Cq182eZh\")\n",
    "project = rf.workspace(\"aerial-imagery-small-objects\").project(\"test-05m\")\n",
    "dataset = project.version(4).download(\"yolov5\")\n",
    "\n",
    "%cd /notebooks/Inference_YOLOv5/Datasets\n",
    "\n",
    "#SODA 10m\n",
    "rf = Roboflow(api_key=\"2vNzUkqiG7v3Cq182eZh\")\n",
    "project = rf.workspace(\"aerial-imagery-small-objects\").project(\"test-10m\")\n",
    "dataset = project.version(2).download(\"yolov5\")\n",
    "\n",
    "%cd /notebooks/Inference_YOLOv5/Datasets\n",
    "\n",
    "#SODA 15m\n",
    "rf = Roboflow(api_key=\"2vNzUkqiG7v3Cq182eZh\")\n",
    "project = rf.workspace(\"aerial-imagery-small-objects\").project(\"test-15m\")\n",
    "dataset = project.version(2).download(\"yolov5\")\n",
    "\n",
    "%cd /notebooks/Inference_YOLOv5/Datasets\n",
    "\n",
    "#SODA 20m\n",
    "rf = Roboflow(api_key=\"2vNzUkqiG7v3Cq182eZh\")\n",
    "project = rf.workspace(\"aerial-imagery-small-objects\").project(\"test-20m\")\n",
    "dataset = project.version(2).download(\"yolov5\")\n",
    "\n",
    "%cd /notebooks/Inference_YOLOv5/Datasets\n",
    "\n",
    "#SODA 25m\n",
    "rf = Roboflow(api_key=\"2vNzUkqiG7v3Cq182eZh\")\n",
    "project = rf.workspace(\"aerial-imagery-small-objects\").project(\"test-25m\")\n",
    "dataset = project.version(2).download(\"yolov5\")\n",
    "\n",
    "%cd /notebooks/Inference_YOLOv5/Datasets\n",
    "\n",
    "#SODA 30m\n",
    "rf = Roboflow(api_key=\"2vNzUkqiG7v3Cq182eZh\")\n",
    "project = rf.workspace(\"aerial-imagery-small-objects\").project(\"test-30m\")\n",
    "dataset = project.version(2).download(\"yolov5\")\n",
    "\"\"\""
   ]
  },
  {
   "cell_type": "code",
   "execution_count": 7,
   "id": "eb8e00ca-11d5-4c01-82ad-99248aea9c30",
   "metadata": {},
   "outputs": [
    {
     "name": "stdout",
     "output_type": "stream",
     "text": [
      "/notebooks/Inference_YOLOv5/Datasets\n",
      "loading Roboflow workspace...\n",
      "loading Roboflow project...\n",
      "Downloading Dataset Version Zip in Test-20m-2 to yolov5pytorch: 100% [21175487 / 21175487] bytes\n"
     ]
    },
    {
     "name": "stderr",
     "output_type": "stream",
     "text": [
      "Extracting Dataset Version Zip to Test-20m-2 in yolov5pytorch:: 100%|██████████| 406/406 [00:00<00:00, 3556.31it/s]\n"
     ]
    }
   ],
   "source": [
    "#SODA 20m\n",
    "%cd /notebooks/Inference_YOLOv5/Datasets\n",
    "rf = Roboflow(api_key=\"2vNzUkqiG7v3Cq182eZh\")\n",
    "project = rf.workspace(\"aerial-imagery-small-objects\").project(\"test-20m\")\n",
    "dataset = project.version(2).download(\"yolov5\")"
   ]
  },
  {
   "cell_type": "markdown",
   "id": "6681974a-d964-40d6-90a6-df371c6d1723",
   "metadata": {},
   "source": [
    "### Inference"
   ]
  },
  {
   "cell_type": "code",
   "execution_count": 4,
   "id": "798141a1-370a-4b0b-bfd6-d58d3dff889f",
   "metadata": {},
   "outputs": [],
   "source": [
    "#weights_path = './yolov5'\n",
    "weights_path = './yolov5/runs/train/yolov5_ALL_TrainVal_5by53/weights'\n",
    "\n",
    "data_05_path = './Inference_YOLOv5/Datasets/Test-05m-2'\n",
    "data_10_path = './Inference_YOLOv5/Datasets/Test-10m-1'\n",
    "data_15_path = './Inference_YOLOv5/Datasets/Test-15m-1'\n",
    "data_20_path = './Inference_YOLOv5/Datasets/Test-20m-2'\n",
    "data_25_path = './Inference_YOLOv5/Datasets/Test-25m-1'\n",
    "data_30_path = './Inference_YOLOv5/Datasets/Test-30m-1'"
   ]
  },
  {
   "cell_type": "code",
   "execution_count": 8,
   "id": "852c5890-e9c3-4597-8a85-853f304bcdc8",
   "metadata": {},
   "outputs": [
    {
     "name": "stdout",
     "output_type": "stream",
     "text": [
      "-----------------------------------\n",
      "Bottles in the wild\n",
      "-----------------------------------\n",
      "/notebooks\n",
      "\u001b[34m\u001b[1mval: \u001b[0mdata=./Inference_YOLOv5/Datasets/Test-20m-2/data.yaml, weights=['./yolov5/runs/train/yolov5_ALL_TrainVal_5by53/weights/best.pt'], batch_size=32, imgsz=640, conf_thres=0.001, iou_thres=0.45, max_det=300, task=test, device=, workers=8, single_cls=False, augment=False, verbose=False, save_txt=False, save_hybrid=False, save_conf=False, save_json=False, project=yolov5/runs/val, name=exp, exist_ok=False, half=False, dnn=False\n",
      "YOLOv5 🚀 v7.0-72-g064365d Python-3.9.16 torch-1.12.1+cu116 CUDA:0 (NVIDIA RTX A6000, 48677MiB)\n",
      "\n",
      "Fusing layers... \n",
      "Model summary: 157 layers, 7026307 parameters, 0 gradients, 15.8 GFLOPs\n",
      "\n",
      "Dataset not found ⚠️, missing paths ['/notebooks/yolov5/Test-20m-2/valid/images']\n",
      "Traceback (most recent call last):\n",
      "  File \"/notebooks/./yolov5/val.py\", line 408, in <module>\n",
      "    main(opt)\n",
      "  File \"/notebooks/./yolov5/val.py\", line 379, in main\n",
      "    run(**vars(opt))\n",
      "  File \"/usr/local/lib/python3.9/dist-packages/torch/autograd/grad_mode.py\", line 27, in decorate_context\n",
      "    return func(*args, **kwargs)\n",
      "  File \"/notebooks/./yolov5/val.py\", line 155, in run\n",
      "    data = check_dataset(data)  # check\n",
      "  File \"/notebooks/yolov5/utils/general.py\", line 542, in check_dataset\n",
      "    raise Exception('Dataset not found ❌')\n",
      "Exception: Dataset not found ❌\n"
     ]
    }
   ],
   "source": [
    "print(\"-----------------------------------\\nBottles in the wild\\n-----------------------------------\")\n",
    "%cd /notebooks/\n",
    "#!python ./yolov5/val.py --img 640 --weights '{weights_path}/best.pt' --data '{data_05_path}/data.yaml' --task test --iou-thres 0.45\n",
    "!python ./yolov5/val.py --img 640 --weights '{weights_path}/best.pt' --data '{data_20_path}/data.yaml' --task test --iou-thres 0.45\n",
    "\n",
    "#print(\"-----------------------------------\\n05m\\n-----------------------------------\")\n",
    "#%cd /notebooks/\n",
    "#!python ./yolov5/val.py --img 640 --weights '{weights_path}/best.pt' --data '{data_05_path}/data.yaml' --task test --iou-thres 0.45\n",
    "#!python ./yolov5/val.py --img 640 --weights '{weights_path}/yolov5s.pt' --data '{data_05_path}/data.yaml' --task test --iou-thres 0.45\n",
    "\n",
    "\n",
    "#print(\"-----------------------------------\\n10m\\n-----------------------------------\")\n",
    "#%cd /notebooks/\n",
    "#!python ./yolov5/val.py --img 640 --weights '{weights_path}/best.pt' --data '{data_10_path}/data.yaml' --task test --iou-thres 0.45\n",
    "\n",
    "#print(\"-----------------------------------\\n15m\\n-----------------------------------\")\n",
    "#%cd /notebooks/\n",
    "#!python ./yolov5/val.py --img 640 --weights '{weights_path}/best.pt' --data '{data_15_path}/data.yaml' --task test --iou-thres 0.45\n",
    "\n",
    "#print(\"-----------------------------------\\n20m\\n-----------------------------------\")\n",
    "#%cd /notebooks/\n",
    "#!python ./yolov5/val.py --img 640 --weights '{weights_path}/best.pt' --data '{data_20_path}/data.yaml' --task test --iou-thres 0.45\n",
    "\n",
    "#print(\"-----------------------------------\\n25m\\n-----------------------------------\")\n",
    "#%cd /notebooks/\n",
    "#!python ./yolov5/val.py --img 640 --weights '{weights_path}/best.pt' --data '{data_25_path}/data.yaml' --task test --iou-thres 0.45\n",
    "\n",
    "#print(\"-----------------------------------\\n30m\\n-----------------------------------\")\n",
    "#%cd /notebooks/\n",
    "#!python ./yolov5/val.py --img 640 --weights '{weights_path}/best.pt' --data '{data_30_path}/data.yaml' --task test --iou-thres 0.45"
   ]
  },
  {
   "cell_type": "code",
   "execution_count": null,
   "id": "826b96e7-937f-47a5-8e2a-97708e7f903f",
   "metadata": {},
   "outputs": [],
   "source": [
    "pwd"
   ]
  },
  {
   "cell_type": "code",
   "execution_count": null,
   "id": "4380e10c-6407-4475-8e3c-b7f9d61b0924",
   "metadata": {},
   "outputs": [],
   "source": [
    "print(\"-----------------------------------\\n05m\\n-----------------------------------\")\n",
    "%cd /notebooks/\n",
    "!python ./yolov5/val.py --img 640 --weights '{weights_path}/best.pt' --data '{data_25_path}/data.yaml' --task val --iou-thres 0.45"
   ]
  },
  {
   "cell_type": "code",
   "execution_count": null,
   "id": "b13ba1c1-db7e-4b96-83fc-e368de7b2f0e",
   "metadata": {},
   "outputs": [],
   "source": [
    "print(\"-----------------------------------\\n05m\\n-----------------------------------\")\n",
    "%cd /notebooks/\n",
    "!python ./yolov5/val.py --img 640 --weights '{weights_path}/best.pt' --data '{data_05_path}/data.yaml' --task test --iou-thres 0.45"
   ]
  },
  {
   "cell_type": "code",
   "execution_count": null,
   "id": "2250781c-1c24-4548-ac7b-8f3d193f12f2",
   "metadata": {},
   "outputs": [],
   "source": [
    "%cd /notebooks/Inference_YOLOv5/Datasets\n",
    "\n",
    "#SODA 05m\n",
    "rf = Roboflow(api_key=\"2vNzUkqiG7v3Cq182eZh\")\n",
    "project = rf.workspace(\"aerial-imagery-small-objects\").project(\"test-05m\")\n",
    "dataset = project.version(3).download(\"yolov5\")"
   ]
  },
  {
   "cell_type": "code",
   "execution_count": null,
   "id": "0c49fca5-a353-4923-ae66-4e86da5bece1",
   "metadata": {},
   "outputs": [],
   "source": [
    "weights_path = './yolov5/runs/train/yolov5_ALL_TrainVal_5by53/weights'\n",
    "\n",
    "data_05b_path = './Inference_YOLOv5/Datasets/Test-05m-3'"
   ]
  },
  {
   "cell_type": "code",
   "execution_count": null,
   "id": "8114994f-6a70-49ef-be1b-7e0b0b9f4b11",
   "metadata": {},
   "outputs": [],
   "source": [
    "print(\"-----------------------------------\\n05m\\n-----------------------------------\")\n",
    "%cd /notebooks/\n",
    "!python ./yolov5/val.py --img 640 --weights '{weights_path}/best.pt' --data '{data_05b_path}/data.yaml' --task test --iou-thres 0.45"
   ]
  },
  {
   "cell_type": "code",
   "execution_count": null,
   "id": "1a38fa90-a96a-4b61-8dba-a4c2ce024198",
   "metadata": {},
   "outputs": [],
   "source": []
  }
 ],
 "metadata": {
  "kernelspec": {
   "display_name": "Python 3 (ipykernel)",
   "language": "python",
   "name": "python3"
  },
  "language_info": {
   "codemirror_mode": {
    "name": "ipython",
    "version": 3
   },
   "file_extension": ".py",
   "mimetype": "text/x-python",
   "name": "python",
   "nbconvert_exporter": "python",
   "pygments_lexer": "ipython3",
   "version": "3.9.16"
  }
 },
 "nbformat": 4,
 "nbformat_minor": 5
}
