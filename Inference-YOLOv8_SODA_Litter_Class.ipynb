{
 "cells": [
  {
   "cell_type": "markdown",
   "id": "d911b753-d8fd-4ab2-8d3f-b9ca51eed9bc",
   "metadata": {},
   "source": [
    "# Inference YOLOv8"
   ]
  },
  {
   "cell_type": "markdown",
   "id": "8671f0a0-bc9e-4009-93af-27921d4b1542",
   "metadata": {},
   "source": [
    "## Project Setup"
   ]
  },
  {
   "cell_type": "code",
   "execution_count": 9,
   "id": "d71c6020-d67b-4d0b-8f9d-6597afa92fcb",
   "metadata": {},
   "outputs": [],
   "source": [
    "rm -rf Test*"
   ]
  },
  {
   "cell_type": "code",
   "execution_count": 1,
   "id": "8314dbf2-c655-4716-bef3-c024d1c8820a",
   "metadata": {},
   "outputs": [
    {
     "name": "stdout",
     "output_type": "stream",
     "text": [
      "/notebooks\n",
      "/notebooks\n",
      "Requirement already satisfied: ultralytics==8.0.20 in /usr/local/lib/python3.9/dist-packages (8.0.20)\n",
      "Requirement already satisfied: torchvision>=0.8.1 in /usr/local/lib/python3.9/dist-packages (from ultralytics==8.0.20) (0.13.1+cu116)\n",
      "Requirement already satisfied: matplotlib>=3.2.2 in /usr/local/lib/python3.9/dist-packages (from ultralytics==8.0.20) (3.7.2)\n",
      "Requirement already satisfied: scipy>=1.4.1 in /usr/local/lib/python3.9/dist-packages (from ultralytics==8.0.20) (1.9.2)\n",
      "Requirement already satisfied: seaborn>=0.11.0 in /usr/local/lib/python3.9/dist-packages (from ultralytics==8.0.20) (0.12.0)\n",
      "Requirement already satisfied: ipython in /usr/local/lib/python3.9/dist-packages (from ultralytics==8.0.20) (8.5.0)\n",
      "Requirement already satisfied: numpy>=1.18.5 in /usr/local/lib/python3.9/dist-packages (from ultralytics==8.0.20) (1.23.4)\n",
      "Requirement already satisfied: tensorboard>=2.4.1 in /usr/local/lib/python3.9/dist-packages (from ultralytics==8.0.20) (2.9.1)\n",
      "Requirement already satisfied: pandas>=1.1.4 in /usr/local/lib/python3.9/dist-packages (from ultralytics==8.0.20) (1.5.0)\n",
      "Requirement already satisfied: Pillow>=7.1.2 in /usr/local/lib/python3.9/dist-packages (from ultralytics==8.0.20) (8.4.0)\n",
      "Requirement already satisfied: torch>=1.7.0 in /usr/local/lib/python3.9/dist-packages (from ultralytics==8.0.20) (1.12.1+cu116)\n",
      "Requirement already satisfied: thop>=0.1.1 in /usr/local/lib/python3.9/dist-packages (from ultralytics==8.0.20) (0.1.1.post2209072238)\n",
      "Requirement already satisfied: tqdm>=4.64.0 in /usr/local/lib/python3.9/dist-packages (from ultralytics==8.0.20) (4.64.1)\n",
      "Requirement already satisfied: PyYAML>=5.3.1 in /usr/local/lib/python3.9/dist-packages (from ultralytics==8.0.20) (6.0.1)\n",
      "Requirement already satisfied: psutil in /usr/local/lib/python3.9/dist-packages (from ultralytics==8.0.20) (5.9.4)\n",
      "Requirement already satisfied: sentry-sdk in /usr/local/lib/python3.9/dist-packages (from ultralytics==8.0.20) (1.14.0)\n",
      "Requirement already satisfied: requests>=2.23.0 in /usr/local/lib/python3.9/dist-packages (from ultralytics==8.0.20) (2.28.2)\n",
      "Requirement already satisfied: opencv-python>=4.6.0 in /usr/local/lib/python3.9/dist-packages (from ultralytics==8.0.20) (4.6.0.66)\n",
      "Requirement already satisfied: packaging>=20.0 in /usr/local/lib/python3.9/dist-packages (from matplotlib>=3.2.2->ultralytics==8.0.20) (23.0)\n",
      "Requirement already satisfied: kiwisolver>=1.0.1 in /usr/local/lib/python3.9/dist-packages (from matplotlib>=3.2.2->ultralytics==8.0.20) (1.4.4)\n",
      "Requirement already satisfied: fonttools>=4.22.0 in /usr/local/lib/python3.9/dist-packages (from matplotlib>=3.2.2->ultralytics==8.0.20) (4.38.0)\n",
      "Requirement already satisfied: contourpy>=1.0.1 in /usr/local/lib/python3.9/dist-packages (from matplotlib>=3.2.2->ultralytics==8.0.20) (1.0.7)\n",
      "Requirement already satisfied: python-dateutil>=2.7 in /usr/local/lib/python3.9/dist-packages (from matplotlib>=3.2.2->ultralytics==8.0.20) (2.8.2)\n",
      "Requirement already satisfied: pyparsing<3.1,>=2.3.1 in /usr/local/lib/python3.9/dist-packages (from matplotlib>=3.2.2->ultralytics==8.0.20) (2.4.7)\n",
      "Requirement already satisfied: importlib-resources>=3.2.0 in /usr/local/lib/python3.9/dist-packages (from matplotlib>=3.2.2->ultralytics==8.0.20) (5.10.2)\n",
      "Requirement already satisfied: cycler>=0.10 in /usr/local/lib/python3.9/dist-packages (from matplotlib>=3.2.2->ultralytics==8.0.20) (0.10.0)\n",
      "Requirement already satisfied: pytz>=2020.1 in /usr/local/lib/python3.9/dist-packages (from pandas>=1.1.4->ultralytics==8.0.20) (2022.7.1)\n",
      "Requirement already satisfied: idna<4,>=2.5 in /usr/local/lib/python3.9/dist-packages (from requests>=2.23.0->ultralytics==8.0.20) (2.10)\n",
      "Requirement already satisfied: certifi>=2017.4.17 in /usr/local/lib/python3.9/dist-packages (from requests>=2.23.0->ultralytics==8.0.20) (2022.12.7)\n",
      "Requirement already satisfied: charset-normalizer<4,>=2 in /usr/local/lib/python3.9/dist-packages (from requests>=2.23.0->ultralytics==8.0.20) (2.1.1)\n",
      "Requirement already satisfied: urllib3<1.27,>=1.21.1 in /usr/local/lib/python3.9/dist-packages (from requests>=2.23.0->ultralytics==8.0.20) (1.26.14)\n",
      "Requirement already satisfied: google-auth-oauthlib<0.5,>=0.4.1 in /usr/local/lib/python3.9/dist-packages (from tensorboard>=2.4.1->ultralytics==8.0.20) (0.4.6)\n",
      "Requirement already satisfied: tensorboard-data-server<0.7.0,>=0.6.0 in /usr/local/lib/python3.9/dist-packages (from tensorboard>=2.4.1->ultralytics==8.0.20) (0.6.1)\n",
      "Requirement already satisfied: absl-py>=0.4 in /usr/local/lib/python3.9/dist-packages (from tensorboard>=2.4.1->ultralytics==8.0.20) (1.4.0)\n",
      "Requirement already satisfied: tensorboard-plugin-wit>=1.6.0 in /usr/local/lib/python3.9/dist-packages (from tensorboard>=2.4.1->ultralytics==8.0.20) (1.8.1)\n",
      "Requirement already satisfied: google-auth<3,>=1.6.3 in /usr/local/lib/python3.9/dist-packages (from tensorboard>=2.4.1->ultralytics==8.0.20) (2.16.0)\n",
      "Requirement already satisfied: wheel>=0.26 in /usr/local/lib/python3.9/dist-packages (from tensorboard>=2.4.1->ultralytics==8.0.20) (0.35.1)\n",
      "Requirement already satisfied: setuptools>=41.0.0 in /usr/local/lib/python3.9/dist-packages (from tensorboard>=2.4.1->ultralytics==8.0.20) (66.1.1)\n",
      "Requirement already satisfied: grpcio>=1.24.3 in /usr/local/lib/python3.9/dist-packages (from tensorboard>=2.4.1->ultralytics==8.0.20) (1.51.1)\n",
      "Requirement already satisfied: protobuf<3.20,>=3.9.2 in /usr/local/lib/python3.9/dist-packages (from tensorboard>=2.4.1->ultralytics==8.0.20) (3.19.6)\n",
      "Requirement already satisfied: werkzeug>=1.0.1 in /usr/local/lib/python3.9/dist-packages (from tensorboard>=2.4.1->ultralytics==8.0.20) (2.2.2)\n",
      "Requirement already satisfied: markdown>=2.6.8 in /usr/local/lib/python3.9/dist-packages (from tensorboard>=2.4.1->ultralytics==8.0.20) (3.4.1)\n",
      "Requirement already satisfied: typing-extensions in /usr/local/lib/python3.9/dist-packages (from torch>=1.7.0->ultralytics==8.0.20) (4.4.0)\n",
      "Requirement already satisfied: backcall in /usr/local/lib/python3.9/dist-packages (from ipython->ultralytics==8.0.20) (0.2.0)\n",
      "Requirement already satisfied: prompt-toolkit<3.1.0,>3.0.1 in /usr/local/lib/python3.9/dist-packages (from ipython->ultralytics==8.0.20) (3.0.36)\n",
      "Requirement already satisfied: pickleshare in /usr/local/lib/python3.9/dist-packages (from ipython->ultralytics==8.0.20) (0.7.5)\n",
      "Requirement already satisfied: pexpect>4.3 in /usr/local/lib/python3.9/dist-packages (from ipython->ultralytics==8.0.20) (4.8.0)\n",
      "Requirement already satisfied: jedi>=0.16 in /usr/local/lib/python3.9/dist-packages (from ipython->ultralytics==8.0.20) (0.18.2)\n",
      "Requirement already satisfied: matplotlib-inline in /usr/local/lib/python3.9/dist-packages (from ipython->ultralytics==8.0.20) (0.1.6)\n",
      "Requirement already satisfied: traitlets>=5 in /usr/local/lib/python3.9/dist-packages (from ipython->ultralytics==8.0.20) (5.8.1)\n",
      "Requirement already satisfied: decorator in /usr/local/lib/python3.9/dist-packages (from ipython->ultralytics==8.0.20) (5.1.1)\n",
      "Requirement already satisfied: stack-data in /usr/local/lib/python3.9/dist-packages (from ipython->ultralytics==8.0.20) (0.6.2)\n",
      "Requirement already satisfied: pygments>=2.4.0 in /usr/local/lib/python3.9/dist-packages (from ipython->ultralytics==8.0.20) (2.14.0)\n",
      "Requirement already satisfied: six in /usr/lib/python3/dist-packages (from cycler>=0.10->matplotlib>=3.2.2->ultralytics==8.0.20) (1.14.0)\n",
      "Requirement already satisfied: cachetools<6.0,>=2.0.0 in /usr/local/lib/python3.9/dist-packages (from google-auth<3,>=1.6.3->tensorboard>=2.4.1->ultralytics==8.0.20) (5.3.0)\n",
      "Requirement already satisfied: rsa<5,>=3.1.4 in /usr/local/lib/python3.9/dist-packages (from google-auth<3,>=1.6.3->tensorboard>=2.4.1->ultralytics==8.0.20) (4.7.2)\n",
      "Requirement already satisfied: pyasn1-modules>=0.2.1 in /usr/local/lib/python3.9/dist-packages (from google-auth<3,>=1.6.3->tensorboard>=2.4.1->ultralytics==8.0.20) (0.2.8)\n",
      "Requirement already satisfied: requests-oauthlib>=0.7.0 in /usr/local/lib/python3.9/dist-packages (from google-auth-oauthlib<0.5,>=0.4.1->tensorboard>=2.4.1->ultralytics==8.0.20) (1.3.1)\n",
      "Requirement already satisfied: zipp>=3.1.0 in /usr/local/lib/python3.9/dist-packages (from importlib-resources>=3.2.0->matplotlib>=3.2.2->ultralytics==8.0.20) (3.11.0)\n",
      "Requirement already satisfied: parso<0.9.0,>=0.8.0 in /usr/local/lib/python3.9/dist-packages (from jedi>=0.16->ipython->ultralytics==8.0.20) (0.8.3)\n",
      "Requirement already satisfied: importlib-metadata>=4.4 in /usr/local/lib/python3.9/dist-packages (from markdown>=2.6.8->tensorboard>=2.4.1->ultralytics==8.0.20) (6.0.0)\n",
      "Requirement already satisfied: ptyprocess>=0.5 in /usr/local/lib/python3.9/dist-packages (from pexpect>4.3->ipython->ultralytics==8.0.20) (0.7.0)\n",
      "Requirement already satisfied: wcwidth in /usr/local/lib/python3.9/dist-packages (from prompt-toolkit<3.1.0,>3.0.1->ipython->ultralytics==8.0.20) (0.2.6)\n",
      "Requirement already satisfied: MarkupSafe>=2.1.1 in /usr/local/lib/python3.9/dist-packages (from werkzeug>=1.0.1->tensorboard>=2.4.1->ultralytics==8.0.20) (2.1.2)\n",
      "Requirement already satisfied: executing>=1.2.0 in /usr/local/lib/python3.9/dist-packages (from stack-data->ipython->ultralytics==8.0.20) (1.2.0)\n",
      "Requirement already satisfied: asttokens>=2.1.0 in /usr/local/lib/python3.9/dist-packages (from stack-data->ipython->ultralytics==8.0.20) (2.2.1)\n",
      "Requirement already satisfied: pure-eval in /usr/local/lib/python3.9/dist-packages (from stack-data->ipython->ultralytics==8.0.20) (0.2.2)\n",
      "Requirement already satisfied: pyasn1<0.5.0,>=0.4.6 in /usr/local/lib/python3.9/dist-packages (from pyasn1-modules>=0.2.1->google-auth<3,>=1.6.3->tensorboard>=2.4.1->ultralytics==8.0.20) (0.4.8)\n",
      "Requirement already satisfied: oauthlib>=3.0.0 in /usr/local/lib/python3.9/dist-packages (from requests-oauthlib>=0.7.0->google-auth-oauthlib<0.5,>=0.4.1->tensorboard>=2.4.1->ultralytics==8.0.20) (3.2.2)\n",
      "\u001b[33mWARNING: Running pip as the 'root' user can result in broken permissions and conflicting behaviour with the system package manager. It is recommended to use a virtual environment instead: https://pip.pypa.io/warnings/venv\u001b[0m\u001b[33m\n",
      "\u001b[0m\u001b[33mWARNING: Running pip as the 'root' user can result in broken permissions and conflicting behaviour with the system package manager. It is recommended to use a virtual environment instead: https://pip.pypa.io/warnings/venv\u001b[0m\u001b[33m\n",
      "\u001b[0mmkdir: cannot create directory ‘/notebooks/Inference_YOLOv8/Datasets’: File exists\n",
      "/notebooks/Inference_YOLOv8/Datasets\n"
     ]
    }
   ],
   "source": [
    "# Notebook Setup\n",
    "%cd /notebooks\n",
    "import os\n",
    "HOME = os.getcwd()\n",
    "print(HOME)\n",
    "\n",
    "# Pip install method\n",
    "!pip install ultralytics==8.0.20\n",
    "!pip install roboflow --quiet\n",
    "\n",
    "from IPython import display\n",
    "import ultralytics\n",
    "#ultralytics.checks()\n",
    "from ultralytics import YOLO\n",
    "from IPython.display import display, Image\n",
    "from roboflow import Roboflow\n",
    "\n",
    "!mkdir {HOME}/Inference_YOLOv8/Datasets\n",
    "%cd {HOME}/Inference_YOLOv8/Datasets"
   ]
  },
  {
   "cell_type": "markdown",
   "id": "3867d05d-470f-4299-ada3-558c63adf5a7",
   "metadata": {},
   "source": [
    "### Download Test Data"
   ]
  },
  {
   "cell_type": "code",
   "execution_count": 10,
   "id": "2b5f9a3b-44c5-4072-bb52-b3a0542f311f",
   "metadata": {},
   "outputs": [
    {
     "name": "stdout",
     "output_type": "stream",
     "text": [
      "loading Roboflow workspace...\n",
      "loading Roboflow project...\n",
      "Dependency ultralytics==8.0.134 is required but found version=8.0.20, to fix: `pip install ultralytics==8.0.134`\n",
      "\n",
      "Version export complete for yolov8 format\n",
      "Downloading Dataset Version Zip in Test-05m-4 to yolov8: 100% [10966068 / 10966068] bytes\n"
     ]
    },
    {
     "name": "stderr",
     "output_type": "stream",
     "text": [
      "Extracting Dataset Version Zip to Test-05m-4 in yolov8:: 100%|██████████| 169/169 [00:00<00:00, 2519.45it/s]\n"
     ]
    }
   ],
   "source": [
    "#SODA 05m\n",
    "rf = Roboflow(api_key=\"2vNzUkqiG7v3Cq182eZh\")\n",
    "project = rf.workspace(\"aerial-imagery-small-objects\").project(\"test-05m\")\n",
    "dataset = project.version(4).download(\"yolov8\")"
   ]
  },
  {
   "cell_type": "code",
   "execution_count": 11,
   "id": "19ee9d66-cedf-47c7-a3a2-0cae3b946078",
   "metadata": {},
   "outputs": [
    {
     "name": "stdout",
     "output_type": "stream",
     "text": [
      "/notebooks/Inference_YOLOv8/Datasets\n",
      "loading Roboflow workspace...\n",
      "loading Roboflow project...\n",
      "Dependency ultralytics==8.0.134 is required but found version=8.0.20, to fix: `pip install ultralytics==8.0.134`\n",
      "Downloading Dataset Version Zip in Test-10m-2 to yolov8: 96% [24559616 / 25383271] bytes"
     ]
    },
    {
     "name": "stderr",
     "output_type": "stream",
     "text": [
      "IOPub message rate exceeded.\n",
      "The Jupyter server will temporarily stop sending output\n",
      "to the client in order to avoid crashing it.\n",
      "To change this limit, set the config variable\n",
      "`--ServerApp.iopub_msg_rate_limit`.\n",
      "\n",
      "Current values:\n",
      "ServerApp.iopub_msg_rate_limit=1000.0 (msgs/sec)\n",
      "ServerApp.rate_limit_window=3.0 (secs)\n",
      "\n"
     ]
    }
   ],
   "source": [
    "%cd /notebooks/Inference_YOLOv8/Datasets\n",
    "\n",
    "#SODA 10m\n",
    "rf = Roboflow(api_key=\"2vNzUkqiG7v3Cq182eZh\")\n",
    "project = rf.workspace(\"aerial-imagery-small-objects\").project(\"test-10m\")\n",
    "dataset = project.version(2).download(\"yolov8\")"
   ]
  },
  {
   "cell_type": "code",
   "execution_count": 12,
   "id": "8e47d6bb-4428-490a-b69a-265c8ee9ac21",
   "metadata": {},
   "outputs": [
    {
     "name": "stdout",
     "output_type": "stream",
     "text": [
      "/notebooks/Inference_YOLOv8/Datasets\n",
      "loading Roboflow workspace...\n",
      "loading Roboflow project...\n",
      "Dependency ultralytics==8.0.134 is required but found version=8.0.20, to fix: `pip install ultralytics==8.0.134`\n",
      "Downloading Dataset Version Zip in Test-15m-2 to yolov8: 100% [21357268 / 21357268] bytes\n"
     ]
    },
    {
     "name": "stderr",
     "output_type": "stream",
     "text": [
      "Extracting Dataset Version Zip to Test-15m-2 in yolov8:: 100%|██████████| 406/406 [00:00<00:00, 3510.93it/s]\n"
     ]
    }
   ],
   "source": [
    "%cd /notebooks/Inference_YOLOv8/Datasets\n",
    "\n",
    "#SODA 15m\n",
    "rf = Roboflow(api_key=\"2vNzUkqiG7v3Cq182eZh\")\n",
    "project = rf.workspace(\"aerial-imagery-small-objects\").project(\"test-15m\")\n",
    "dataset = project.version(2).download(\"yolov8\")"
   ]
  },
  {
   "cell_type": "code",
   "execution_count": 13,
   "id": "7bcf7c3b-bcee-42d2-9c21-540c686afe62",
   "metadata": {},
   "outputs": [
    {
     "name": "stdout",
     "output_type": "stream",
     "text": [
      "/notebooks/Inference_YOLOv8/Datasets\n",
      "loading Roboflow workspace...\n",
      "loading Roboflow project...\n",
      "Dependency ultralytics==8.0.134 is required but found version=8.0.20, to fix: `pip install ultralytics==8.0.134`\n",
      "Downloading Dataset Version Zip in Test-20m-2 to yolov8: 100% [21175478 / 21175478] bytes\n"
     ]
    },
    {
     "name": "stderr",
     "output_type": "stream",
     "text": [
      "Extracting Dataset Version Zip to Test-20m-2 in yolov8:: 100%|██████████| 406/406 [00:00<00:00, 3471.16it/s]\n"
     ]
    }
   ],
   "source": [
    "%cd /notebooks/Inference_YOLOv8/Datasets\n",
    "\n",
    "#SODA 20m\n",
    "rf = Roboflow(api_key=\"2vNzUkqiG7v3Cq182eZh\")\n",
    "project = rf.workspace(\"aerial-imagery-small-objects\").project(\"test-20m\")\n",
    "dataset = project.version(2).download(\"yolov8\")"
   ]
  },
  {
   "cell_type": "code",
   "execution_count": 14,
   "id": "89a88e25-7218-4158-b066-94c0f88d29a5",
   "metadata": {},
   "outputs": [
    {
     "name": "stdout",
     "output_type": "stream",
     "text": [
      "/notebooks/Inference_YOLOv8/Datasets\n",
      "loading Roboflow workspace...\n",
      "loading Roboflow project...\n",
      "Dependency ultralytics==8.0.134 is required but found version=8.0.20, to fix: `pip install ultralytics==8.0.134`\n",
      "Downloading Dataset Version Zip in Test-25m-2 to yolov8: 100% [20947206 / 20947206] bytes\n"
     ]
    },
    {
     "name": "stderr",
     "output_type": "stream",
     "text": [
      "Extracting Dataset Version Zip to Test-25m-2 in yolov8:: 100%|██████████| 406/406 [00:00<00:00, 3755.81it/s]\n"
     ]
    }
   ],
   "source": [
    "%cd /notebooks/Inference_YOLOv8/Datasets\n",
    "\n",
    "#SODA 25m\n",
    "rf = Roboflow(api_key=\"2vNzUkqiG7v3Cq182eZh\")\n",
    "project = rf.workspace(\"aerial-imagery-small-objects\").project(\"test-25m\")\n",
    "dataset = project.version(2).download(\"yolov8\")"
   ]
  },
  {
   "cell_type": "code",
   "execution_count": 15,
   "id": "e6e55ba7-1985-43de-b1f0-f780f5e51d04",
   "metadata": {},
   "outputs": [
    {
     "name": "stdout",
     "output_type": "stream",
     "text": [
      "/notebooks/Inference_YOLOv8/Datasets\n",
      "loading Roboflow workspace...\n",
      "loading Roboflow project...\n",
      "Dependency ultralytics==8.0.134 is required but found version=8.0.20, to fix: `pip install ultralytics==8.0.134`\n",
      "Downloading Dataset Version Zip in Test-30m-2 to yolov8: 100% [22759983 / 22759983] bytes\n"
     ]
    },
    {
     "name": "stderr",
     "output_type": "stream",
     "text": [
      "Extracting Dataset Version Zip to Test-30m-2 in yolov8:: 100%|██████████| 406/406 [00:00<00:00, 4612.17it/s]\n"
     ]
    }
   ],
   "source": [
    "%cd /notebooks/Inference_YOLOv8/Datasets\n",
    "\n",
    "#SODA 30m\n",
    "rf = Roboflow(api_key=\"2vNzUkqiG7v3Cq182eZh\")\n",
    "project = rf.workspace(\"aerial-imagery-small-objects\").project(\"test-30m\")\n",
    "dataset = project.version(2).download(\"yolov8\")"
   ]
  },
  {
   "cell_type": "markdown",
   "id": "7921604e-94b2-49b6-b532-d64b11bc0ae0",
   "metadata": {},
   "source": [
    "### Inference"
   ]
  },
  {
   "cell_type": "code",
   "execution_count": 21,
   "id": "5b04dfe0-3c73-4044-9fc5-cea4cb7c64cd",
   "metadata": {},
   "outputs": [],
   "source": [
    "#YOLOv8 Trained Weights\n",
    "weights_path = '/notebooks/runs/detect/train13/weights/best.pt'\n",
    "\n",
    "data_05_path = '/notebooks/Inference_YOLOv8/Datasets/Test-05m-4'\n",
    "data_10_path = '/notebooks/Inference_YOLOv8/Datasets/Test-10m-2'\n",
    "data_15_path = '/notebooks/Inference_YOLOv8/Datasets/Test-15m-2'\n",
    "data_20_path = '/notebooks/Inference_YOLOv8/Datasets/Test-20m-2'\n",
    "data_25_path = '/notebooks/Inference_YOLOv8/Datasets/Test-25m-2'\n",
    "data_30_path = '/notebooks/Inference_YOLOv8/Datasets/Test-30m-2'"
   ]
  },
  {
   "cell_type": "code",
   "execution_count": 24,
   "id": "e894117a-64dd-4b41-84db-264898849981",
   "metadata": {},
   "outputs": [
    {
     "name": "stdout",
     "output_type": "stream",
     "text": [
      "-----------------------------------\n",
      "05m\n",
      "-----------------------------------\n",
      "Ultralytics YOLOv8.0.20 🚀 Python-3.9.16 torch-1.12.1+cu116 CUDA:0 (NVIDIA RTX A6000, 48677MiB)\n",
      "Model summary (fused): 168 layers, 11125971 parameters, 0 gradients, 28.4 GFLOPs\n",
      "\u001b[34m\u001b[1mval: \u001b[0mScanning /notebooks/Inference_YOLOv8/Datasets/Test-05m-4/valid/labels... 40\u001b[0m\n",
      "\u001b[34m\u001b[1mval: \u001b[0mNew cache created: /notebooks/Inference_YOLOv8/Datasets/Test-05m-4/valid/labels.cache\n",
      "                 Class     Images  Instances      Box(P          R      mAP50  m\n",
      "                   all         40         81      0.864      0.951      0.947      0.723\n",
      "Speed: 3.5ms pre-process, 2.6ms inference, 0.0ms loss, 0.8ms post-process per image\n",
      "-----------------------------------\n",
      "10m\n",
      "-----------------------------------\n",
      "Ultralytics YOLOv8.0.20 🚀 Python-3.9.16 torch-1.12.1+cu116 CUDA:0 (NVIDIA RTX A6000, 48677MiB)\n",
      "Model summary (fused): 168 layers, 11125971 parameters, 0 gradients, 28.4 GFLOPs\n",
      "\u001b[34m\u001b[1mval: \u001b[0mScanning /notebooks/Inference_YOLOv8/Datasets/Test-10m-2/valid/labels... 25\u001b[0m\n",
      "\u001b[34m\u001b[1mval: \u001b[0mNew cache created: /notebooks/Inference_YOLOv8/Datasets/Test-10m-2/valid/labels.cache\n",
      "                 Class     Images  Instances      Box(P          R      mAP50  m\n",
      "                   all        250        262      0.929      0.897      0.909      0.596\n",
      "Speed: 0.9ms pre-process, 2.9ms inference, 0.0ms loss, 2.6ms post-process per image\n",
      "-----------------------------------\n",
      "15m\n",
      "-----------------------------------\n",
      "Ultralytics YOLOv8.0.20 🚀 Python-3.9.16 torch-1.12.1+cu116 CUDA:0 (NVIDIA RTX A6000, 48677MiB)\n",
      "Model summary (fused): 168 layers, 11125971 parameters, 0 gradients, 28.4 GFLOPs\n",
      "\u001b[34m\u001b[1mval: \u001b[0mScanning /notebooks/Inference_YOLOv8/Datasets/Test-15m-2/valid/labels... 20\u001b[0m\n",
      "\u001b[34m\u001b[1mval: \u001b[0mNew cache created: /notebooks/Inference_YOLOv8/Datasets/Test-15m-2/valid/labels.cache\n",
      "                 Class     Images  Instances      Box(P          R      mAP50  m\n",
      "                   all        200        269      0.922      0.896      0.918      0.593\n",
      "Speed: 1.1ms pre-process, 3.1ms inference, 0.0ms loss, 2.0ms post-process per image\n",
      "-----------------------------------\n",
      "20m\n",
      "-----------------------------------\n",
      "Ultralytics YOLOv8.0.20 🚀 Python-3.9.16 torch-1.12.1+cu116 CUDA:0 (NVIDIA RTX A6000, 48677MiB)\n",
      "Model summary (fused): 168 layers, 11125971 parameters, 0 gradients, 28.4 GFLOPs\n",
      "\u001b[34m\u001b[1mval: \u001b[0mScanning /notebooks/Inference_YOLOv8/Datasets/Test-20m-2/valid/labels... 20\u001b[0m\n",
      "\u001b[34m\u001b[1mval: \u001b[0mNew cache created: /notebooks/Inference_YOLOv8/Datasets/Test-20m-2/valid/labels.cache\n",
      "                 Class     Images  Instances      Box(P          R      mAP50  m\n",
      "                   all        200        223      0.902      0.907      0.914       0.56\n",
      "Speed: 1.5ms pre-process, 4.4ms inference, 0.0ms loss, 1.7ms post-process per image\n",
      "-----------------------------------\n",
      "25m\n",
      "-----------------------------------\n",
      "Ultralytics YOLOv8.0.20 🚀 Python-3.9.16 torch-1.12.1+cu116 CUDA:0 (NVIDIA RTX A6000, 48677MiB)\n",
      "Model summary (fused): 168 layers, 11125971 parameters, 0 gradients, 28.4 GFLOPs\n",
      "\u001b[34m\u001b[1mval: \u001b[0mScanning /notebooks/Inference_YOLOv8/Datasets/Test-25m-2/valid/labels... 20\u001b[0m\n",
      "\u001b[34m\u001b[1mval: \u001b[0mNew cache created: /notebooks/Inference_YOLOv8/Datasets/Test-25m-2/valid/labels.cache\n",
      "                 Class     Images  Instances      Box(P          R      mAP50  m\n",
      "                   all        200        236      0.841      0.849      0.851      0.469\n",
      "Speed: 1.2ms pre-process, 4.7ms inference, 0.0ms loss, 2.5ms post-process per image\n",
      "-----------------------------------\n",
      "30m\n",
      "-----------------------------------\n",
      "Ultralytics YOLOv8.0.20 🚀 Python-3.9.16 torch-1.12.1+cu116 CUDA:0 (NVIDIA RTX A6000, 48677MiB)\n",
      "Model summary (fused): 168 layers, 11125971 parameters, 0 gradients, 28.4 GFLOPs\n",
      "\u001b[34m\u001b[1mval: \u001b[0mScanning /notebooks/Inference_YOLOv8/Datasets/Test-30m-2/valid/labels... 20\u001b[0m\n",
      "\u001b[34m\u001b[1mval: \u001b[0mNew cache created: /notebooks/Inference_YOLOv8/Datasets/Test-30m-2/valid/labels.cache\n",
      "                 Class     Images  Instances      Box(P          R      mAP50  m\n",
      "                   all        200        196      0.811      0.801      0.812      0.422\n",
      "Speed: 1.5ms pre-process, 2.8ms inference, 0.0ms loss, 1.0ms post-process per image\n"
     ]
    }
   ],
   "source": [
    "print(\"-----------------------------------\\n05m\\n-----------------------------------\")\n",
    "!yolo task=detect mode=val model='{weights_path}' data='{data_05_path}/data.yaml' imgsz=640\n",
    "\n",
    "print(\"-----------------------------------\\n10m\\n-----------------------------------\")\n",
    "#%cd /notebooks/\n",
    "!yolo task=detect mode=val model='{weights_path}' data='{data_10_path}/data.yaml' imgsz=640\n",
    "\n",
    "print(\"-----------------------------------\\n15m\\n-----------------------------------\")\n",
    "#%cd /notebooks/\n",
    "!yolo task=detect mode=val model='{weights_path}' data='{data_15_path}/data.yaml' imgsz=640\n",
    "\n",
    "print(\"-----------------------------------\\n20m\\n-----------------------------------\")\n",
    "#%cd /notebooks/\n",
    "!yolo task=detect mode=val model='{weights_path}' data='{data_20_path}/data.yaml' imgsz=640\n",
    "\n",
    "print(\"-----------------------------------\\n25m\\n-----------------------------------\")\n",
    "#%cd /notebooks/\n",
    "!yolo task=detect mode=val model='{weights_path}' data='{data_25_path}/data.yaml' imgsz=640\n",
    "\n",
    "print(\"-----------------------------------\\n30m\\n-----------------------------------\")\n",
    "#%cd /notebooks/\n",
    "!yolo task=detect mode=val model='{weights_path}' data='{data_30_path}/data.yaml' imgsz=640"
   ]
  },
  {
   "cell_type": "code",
   "execution_count": null,
   "id": "e7db8f7b-2d62-4cc6-b741-5cb2917805a6",
   "metadata": {},
   "outputs": [],
   "source": []
  }
 ],
 "metadata": {
  "kernelspec": {
   "display_name": "Python 3 (ipykernel)",
   "language": "python",
   "name": "python3"
  },
  "language_info": {
   "codemirror_mode": {
    "name": "ipython",
    "version": 3
   },
   "file_extension": ".py",
   "mimetype": "text/x-python",
   "name": "python",
   "nbconvert_exporter": "python",
   "pygments_lexer": "ipython3",
   "version": "3.9.16"
  }
 },
 "nbformat": 4,
 "nbformat_minor": 5
}
